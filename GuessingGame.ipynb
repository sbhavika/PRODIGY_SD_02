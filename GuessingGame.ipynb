{
 "cells": [
  {
   "cell_type": "code",
   "execution_count": null,
   "id": "81953495",
   "metadata": {},
   "outputs": [],
   "source": [
    "import tkinter as tk\n",
    "from tkinter import messagebox\n",
    "import random\n",
    "\n",
    "class NumberGuessingGame:\n",
    "    def __init__(self):\n",
    "        self.secret_number = random.randint(1, 100)\n",
    "        self.attempts = 0\n",
    "\n",
    "        # Create main window\n",
    "        self.window = tk.Tk()\n",
    "        self.window.title(\"Number Guessing Game\")\n",
    "\n",
    "        # Create widgets\n",
    "        self.label_instruction = tk.Label(self.window, text=\"Guess the number (1-100):\")\n",
    "        self.entry_guess = tk.Entry(self.window)\n",
    "        self.button_guess = tk.Button(self.window, text=\"Guess\", command=self.check_guess)\n",
    "        self.label_feedback = tk.Label(self.window, text=\"\")\n",
    "        \n",
    "        # Arrange widgets using grid layout\n",
    "        self.label_instruction.grid(row=0, column=0, columnspan=2, padx=10, pady=10)\n",
    "        self.entry_guess.grid(row=1, column=0, padx=10, pady=10)\n",
    "        self.button_guess.grid(row=1, column=1, padx=10, pady=10)\n",
    "        self.label_feedback.grid(row=2, column=0, columnspan=2, pady=10)\n",
    "\n",
    "    def check_guess(self):\n",
    "        try:\n",
    "            guess = int(self.entry_guess.get())\n",
    "            self.attempts += 1\n",
    "\n",
    "            if guess == self.secret_number:\n",
    "                messagebox.showinfo(\"Congratulations!\", f\"Correct! It took you {self.attempts} attempts.\")\n",
    "                self.window.destroy()\n",
    "            elif guess < self.secret_number:\n",
    "                self.label_feedback.config(text=\"Too low! Try again.\")\n",
    "            else:\n",
    "                self.label_feedback.config(text=\"Too high! Try again.\")\n",
    "        except ValueError:\n",
    "            messagebox.showerror(\"Error\", \"Please enter a valid number.\")\n",
    "\n",
    "    def run(self):\n",
    "        # Start the GUI event loop\n",
    "        self.window.mainloop()\n",
    "\n",
    "# Create and run the NumberGuessingGame\n",
    "game = NumberGuessingGame()\n",
    "game.run()"
   ]
  },
  {
   "cell_type": "code",
   "execution_count": null,
   "id": "92ac2696",
   "metadata": {},
   "outputs": [],
   "source": []
  }
 ],
 "metadata": {
  "kernelspec": {
   "display_name": "Python 3 (ipykernel)",
   "language": "python",
   "name": "python3"
  },
  "language_info": {
   "codemirror_mode": {
    "name": "ipython",
    "version": 3
   },
   "file_extension": ".py",
   "mimetype": "text/x-python",
   "name": "python",
   "nbconvert_exporter": "python",
   "pygments_lexer": "ipython3",
   "version": "3.10.9"
  }
 },
 "nbformat": 4,
 "nbformat_minor": 5
}
